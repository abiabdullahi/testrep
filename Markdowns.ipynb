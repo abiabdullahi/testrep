{
  "metadata": {
    "kernelspec": {
      "name": "python",
      "display_name": "Python (Pyodide)",
      "language": "python"
    },
    "language_info": {
      "codemirror_mode": {
        "name": "python",
        "version": 3
      },
      "file_extension": ".py",
      "mimetype": "text/x-python",
      "name": "python",
      "nbconvert_exporter": "python",
      "pygments_lexer": "ipython3",
      "version": "3.8"
    }
  },
  "nbformat_minor": 4,
  "nbformat": 4,
  "cells": [
    {
      "cell_type": "markdown",
      "source": "## Hello World",
      "metadata": {}
    },
    {
      "cell_type": "markdown",
      "source": "## Bold Text",
      "metadata": {}
    },
    {
      "cell_type": "markdown",
      "source": "**B0ld text using asterisks.**\n__Bold text using underscore.__",
      "metadata": {}
    },
    {
      "cell_type": "markdown",
      "source": "## Italic Text",
      "metadata": {}
    },
    {
      "cell_type": "markdown",
      "source": "*Italic text using asterisks.*\n_Italic text using underscore._\n",
      "metadata": {}
    },
    {
      "cell_type": "markdown",
      "source": "# Bold and Italic text",
      "metadata": {}
    },
    {
      "cell_type": "code",
      "source": "***Bold and Italic text using asterisks.***\n___Bold and Italic text using underscore___",
      "metadata": {
        "trusted": true
      },
      "outputs": [],
      "execution_count": null
    },
    {
      "cell_type": "markdown",
      "source": "# Insert Links and images using Markdowm",
      "metadata": {}
    },
    {
      "cell_type": "markdown",
      "source": "# Hyperlinks",
      "metadata": {}
    },
    {
      "cell_type": "markdown",
      "source": "<https://skills.network/ >",
      "metadata": {}
    },
    {
      "cell_type": "code",
      "source": "# Execute it as a Markdown cell\n[Skills Network](https://skilla.network/)",
      "metadata": {
        "trusted": true
      },
      "outputs": [],
      "execution_count": null
    },
    {
      "cell_type": "markdown",
      "source": "# Images",
      "metadata": {}
    },
    {
      "cell_type": "code",
      "source": "# Execute it as a markdown cell\nLOGO![This is the skills network logo](https://cf-courses-data.s3.cloud-object-storage.appdomain.cloud/assets/logos/SN_web_lightmode.png)",
      "metadata": {
        "trusted": true
      },
      "outputs": [],
      "execution_count": null
    },
    {
      "cell_type": "markdown",
      "source": "# Create Tables in Markdown",
      "metadata": {}
    },
    {
      "cell_type": "code",
      "source": "| Country Name | Capital |\n|--------------| --------|\n| United States | Washington DC |\n| Australia | Canberra |\n| India | New Delhi |\n    \n",
      "metadata": {
        "trusted": true
      },
      "outputs": [],
      "execution_count": null
    },
    {
      "cell_type": "markdown",
      "source": "#  Create Ordered and Unordered lists in Markdown",
      "metadata": {}
    },
    {
      "cell_type": "markdown",
      "source": "# unordered List",
      "metadata": {}
    },
    {
      "cell_type": "code",
      "source": "- First item using dashes\n- Second item using dashes\n- Third item using dashes\n- Fourth item using dashes\n\n* First item using asterisks\n* Second item using asterisks\n* Third item using asterisks\n* Fourth item using asterisks\n\n+ First item using plus \n+ Second item using plus\n+ Third item using plus\n\n",
      "metadata": {
        "trusted": true
      },
      "outputs": [],
      "execution_count": null
    },
    {
      "cell_type": "markdown",
      "source": "# Ordered List",
      "metadata": {}
    },
    {
      "cell_type": "code",
      "source": "1. First item\n2. Second item\n3. third item\n4. Fourth item ",
      "metadata": {
        "trusted": true
      },
      "outputs": [],
      "execution_count": null
    },
    {
      "cell_type": "markdown",
      "source": "# Practise Exercise",
      "metadata": {}
    },
    {
      "cell_type": "markdown",
      "source": "# Welcome to Python Programming",
      "metadata": {}
    },
    {
      "cell_type": "markdown",
      "source": "Launcher:![This is SN labs New Launcher](https://cf-courses-data.s3.cloud-object-storage.appdomain.cloud/IBMDeveloperSkillsNetwork-SkillsNetwork/labs/labs_V4/images/launcher.png)",
      "metadata": {}
    },
    {
      "cell_type": "code",
      "source": "Task 2: Create a hyperlink to",
      "metadata": {
        "trusted": true
      },
      "outputs": [],
      "execution_count": null
    },
    {
      "cell_type": "code",
      "source": "# Write your markdown here",
      "metadata": {
        "trusted": true
      },
      "outputs": [],
      "execution_count": null
    },
    {
      "cell_type": "markdown",
      "source": "<a href \n=\"https://www.coursera.org/learn/open-source-tools-for data-science/home/\">Tools For Data Science</a>",
      "metadata": {}
    },
    {
      "cell_type": "code",
      "source": "Task 3:Create the folllowing table",
      "metadata": {
        "trusted": true
      },
      "outputs": [],
      "execution_count": null
    },
    {
      "cell_type": "code",
      "source": "|Fruits | Quantity (kg) | Price (In Rupee)\n|-------|---------------|-------------------|\n|Apple | 2 |500|\n|Orange | 1|200|\n|Mango | 3 |1000|\n|Grapes | 2 |400|",
      "metadata": {
        "trusted": true
      },
      "outputs": [],
      "execution_count": null
    },
    {
      "cell_type": "markdown",
      "source": "Task 4: Create the following ordered list",
      "metadata": {}
    },
    {
      "cell_type": "code",
      "source": "1. Python\n2. Java\n3. C++\n4. C",
      "metadata": {
        "trusted": true
      },
      "outputs": [],
      "execution_count": null
    }
  ]
}