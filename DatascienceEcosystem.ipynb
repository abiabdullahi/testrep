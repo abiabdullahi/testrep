{
 "cells": [
  {
   "cell_type": "code",
   "execution_count": null,
   "id": "94ef691c-2df0-4c44-8123-e8bff033e0d4",
   "metadata": {},
   "outputs": [],
   "source": [
    "Data Science tools and Ecosystem"
   ]
  },
  {
   "cell_type": "markdown",
   "id": "61e472ff-4846-4ff5-802d-33b9a9ceab40",
   "metadata": {},
   "source": [
    "In this notebook, Data Science TOOLS and Ecosystem are summarized."
   ]
  },
  {
   "cell_type": "markdown",
   "id": "47ee87c2-6419-41b2-bf0e-6a50e0b922b4",
   "metadata": {},
   "source": [
    "Some of the popular languages that Data Scientist use are:\n",
    "1.Python\n",
    "2.Java\n",
    "3.R\n",
    "4.SQL"
   ]
  },
  {
   "cell_type": "markdown",
   "id": "054e264b-83b3-4bc7-ab85-61eaacb85a3e",
   "metadata": {},
   "source": [
    "Some of the commonly used libraries used by Data Scientist include:\n",
    "1.Pandas\n",
    "2.Matplotlib\n",
    "3.GGplot2\n",
    "4.sckit-learn"
   ]
  },
  {
   "cell_type": "markdown",
   "id": "215c224b-81c1-4c05-a699-065cf4547526",
   "metadata": {},
   "source": [
    "Data Science Tools\n",
    "1.Watson Studio\n",
    "2.Watson Open Scale\n",
    "3.H2O Driverless AI"
   ]
  },
  {
   "cell_type": "markdown",
   "id": "5158c269-803c-4937-ba46-730d3374eb58",
   "metadata": {},
   "source": [
    "### Below are few examples of evaluating aritmetic expressions in python"
   ]
  },
  {
   "cell_type": "code",
   "execution_count": null,
   "id": "688f0cc0-1045-44ee-a662-30ac83305b2c",
   "metadata": {},
   "outputs": [],
   "source": [
    "This a simple aritmetic expression to multiply then add intergers"
   ]
  },
  {
   "cell_type": "code",
   "execution_count": 17,
   "id": "1b4c6390-2fe4-4244-a08b-c65ca4eb58c7",
   "metadata": {},
   "outputs": [
    {
     "data": {
      "text/plain": [
       "17"
      ]
     },
     "execution_count": 17,
     "metadata": {},
     "output_type": "execute_result"
    }
   ],
   "source": [
    "(3*4)+5"
   ]
  },
  {
   "cell_type": "code",
   "execution_count": null,
   "id": "d1b338e8-12a5-4302-857c-e0390d297698",
   "metadata": {},
   "outputs": [],
   "source": [
    "converting hours into minutes"
   ]
  },
  {
   "cell_type": "code",
   "execution_count": 18,
   "id": "5cb2a9d5-6d05-4304-afc6-6591a4f42550",
   "metadata": {},
   "outputs": [
    {
     "data": {
      "text/plain": [
       "3.3333333333333335"
      ]
     },
     "execution_count": 18,
     "metadata": {},
     "output_type": "execute_result"
    }
   ],
   "source": [
    "200/60"
   ]
  },
  {
   "cell_type": "markdown",
   "id": "e218588e-9f12-4083-b733-9425d6292684",
   "metadata": {},
   "source": [
    "**Objectives**"
   ]
  },
  {
   "cell_type": "markdown",
   "id": "77d53a78-d574-4c7f-81ae-21e1830d2c6a",
   "metadata": {},
   "source": [
    "*Some of the popular languages that Data Scientist use are:\n",
    "*some of the commonly used libraries used by Data Scientists include:\n",
    "*Data Science Tools"
   ]
  },
  {
   "cell_type": "markdown",
   "id": "23e55b14-8852-4e10-98ef-70cd79ee9878",
   "metadata": {},
   "source": [
    "## Author"
   ]
  },
  {
   "cell_type": "markdown",
   "id": "f2073310-fb52-4aab-af91-be02b4a2419b",
   "metadata": {},
   "source": [
    "Lakshmi Holla\n",
    "Abdi Adan"
   ]
  },
  {
   "cell_type": "code",
   "execution_count": null,
   "id": "13d87dbd-e226-463e-9a05-c93668e226b9",
   "metadata": {},
   "outputs": [],
   "source": []
  }
 ],
 "metadata": {
  "kernelspec": {
   "display_name": "Python 3 (ipykernel)",
   "language": "python",
   "name": "python3"
  },
  "language_info": {
   "codemirror_mode": {
    "name": "ipython",
    "version": 3
   },
   "file_extension": ".py",
   "mimetype": "text/x-python",
   "name": "python",
   "nbconvert_exporter": "python",
   "pygments_lexer": "ipython3",
   "version": "3.11.7"
  }
 },
 "nbformat": 4,
 "nbformat_minor": 5
}
